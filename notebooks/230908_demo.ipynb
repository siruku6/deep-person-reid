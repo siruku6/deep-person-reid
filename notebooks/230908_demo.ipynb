{
 "cells": [
  {
   "cell_type": "markdown",
   "id": "5038c901-d12d-48bb-912f-8878c3a4f10c",
   "metadata": {},
   "source": [
    "# How to use this notebook\n",
    "\n",
    "## 1. Up container\n",
    "\n",
    "```bash\n",
    "# Build and up container.\n",
    "$ docker compose build\n",
    "$ docker compose up\n",
    "```\n",
    "\n",
    "## 2. [Optional] If you want to speed up ...\n",
    "\n",
    "```bash\n",
    "# If you want to speed up the processsing to evaluate the rank of images ...\n",
    "# After opening another prompt\n",
    "$ docker compose exec python bash\n",
    "\n",
    "# In the docker container,\n",
    "$ cd torchreid/metrics/rank_cylib\n",
    "$ pwd\n",
    "/home/appuser/torchreid/metrics/rank_cylib\n",
    "\n",
    "# Build the Cython-optimized evaluation method.\n",
    "$ python setup.py build_ext --inplace\n",
    "Compiling rank_cy.pyx because it changed.\n",
    "[1/1] Cythonizing rank_cy.pyx\n",
    "...(略)...\n",
    "\n",
    "# Remove the unnecessary directory.\n",
    "$ rm -rf build\n",
    "```\n",
    "\n",
    "## 3. Access notebook!\n",
    "\n",
    "After that, try to access `localhost:8886` from your Web browser, for example, Google Chrome.\n"
   ]
  },
  {
   "cell_type": "code",
   "execution_count": 1,
   "id": "c4933179-5658-444b-b40b-430c83006995",
   "metadata": {},
   "outputs": [],
   "source": [
    "from typing import Dict, List, Tuple\n",
    "\n",
    "\n",
    "import numpy as np\n",
    "import pandas as pd\n",
    "from tqdm.notebook import tqdm\n",
    "\n",
    "import torchreid\n",
    "from torchreid import data, optim, utils, engine, losses, models, metrics\n",
    "\n",
    "from custom_src.evaluation import CustomEvaluationEngine\n",
    "from custom_src.ranking_to_csv import CsvCreator\n"
   ]
  },
  {
   "cell_type": "markdown",
   "id": "618d832c-c53c-45af-b8ca-7e8cf83ba874",
   "metadata": {},
   "source": [
    "# Data Prepareation"
   ]
  },
  {
   "cell_type": "code",
   "execution_count": 2,
   "id": "35a6536b-c66b-477f-a3c0-cf660e050075",
   "metadata": {},
   "outputs": [
    {
     "name": "stdout",
     "output_type": "stream",
     "text": [
      "Building train transforms ...\n",
      "+ resize to 256x128\n",
      "+ random flip\n",
      "+ random crop (enlarge to 288x144 and crop 256x128)\n",
      "+ to torch tensor of range [0, 1]\n",
      "+ normalization (mean=[0.485, 0.456, 0.406], std=[0.229, 0.224, 0.225])\n",
      "Building test transforms ...\n",
      "+ resize to 256x128\n",
      "+ to torch tensor of range [0, 1]\n",
      "+ normalization (mean=[0.485, 0.456, 0.406], std=[0.229, 0.224, 0.225])\n",
      "=> Loading train (source) dataset\n",
      "=> Loaded Market1501\n",
      "  ----------------------------------------\n",
      "  subset   | # ids | # images | # cameras\n",
      "  ----------------------------------------\n",
      "  train    |   751 |    12936 |         6\n",
      "  query    |   751 |     3369 |         6\n",
      "  gallery  |   752 |    15914 |         6\n",
      "  ----------------------------------------\n",
      "=> Loading test (target) dataset\n",
      "=> Loaded Market1501\n",
      "  ----------------------------------------\n",
      "  subset   | # ids | # images | # cameras\n",
      "  ----------------------------------------\n",
      "  train    |   751 |    12936 |         6\n",
      "  query    |   751 |     3369 |         6\n",
      "  gallery  |   752 |    15914 |         6\n",
      "  ----------------------------------------\n",
      "\n",
      "\n",
      "  **************** Summary ****************\n",
      "  source            : ['market1501']\n",
      "  # source datasets : 1\n",
      "  # source ids      : 751\n",
      "  # source images   : 12936\n",
      "  # source cameras  : 6\n",
      "  target            : ['market1501']\n",
      "  *****************************************\n",
      "\n",
      "\n"
     ]
    }
   ],
   "source": [
    "dataset_name: str = \"market1501\"\n",
    "\n",
    "# download function は機能していなかったので、手動で deep-person-reid/reid-data/market1501/ の中にデータを設置した\n",
    "datamanager = torchreid.data.ImageDataManager(\n",
    "    root=\"../reid-data\",\n",
    "    sources=dataset_name,\n",
    "    targets=dataset_name,\n",
    "    height=256,\n",
    "    width=128,\n",
    "    batch_size_train=32,\n",
    "    batch_size_test=100,\n",
    "    transforms=[\"random_flip\", \"random_crop\"]\n",
    ")"
   ]
  },
  {
   "cell_type": "markdown",
   "id": "ca783b19-caae-4e34-820d-e24c8aa44299",
   "metadata": {},
   "source": [
    "# Model Preparation"
   ]
  },
  {
   "cell_type": "code",
   "execution_count": 3,
   "id": "3bbc71d5-990b-4876-b2c7-403dd691dda1",
   "metadata": {},
   "outputs": [],
   "source": [
    "model = torchreid.models.build_model(\n",
    "    name=\"resnet50\",\n",
    "    num_classes=datamanager.num_train_pids,\n",
    "    loss=\"softmax\",\n",
    "    pretrained=True\n",
    ")\n",
    "\n",
    "model = model.cuda()\n",
    "\n",
    "optimizer = torchreid.optim.build_optimizer(\n",
    "    model,\n",
    "    optim=\"adam\",\n",
    "    lr=0.0003\n",
    ")\n",
    "\n",
    "scheduler = torchreid.optim.build_lr_scheduler(\n",
    "    optimizer,\n",
    "    lr_scheduler=\"single_step\",\n",
    "    stepsize=20\n",
    ")"
   ]
  },
  {
   "cell_type": "code",
   "execution_count": 4,
   "id": "d1e4b9bf-340f-4a73-ae34-9d18d31fa688",
   "metadata": {},
   "outputs": [
    {
     "name": "stdout",
     "output_type": "stream",
     "text": [
      "Loading checkpoint from \"../log/resnet50/model/model.pth.tar-60\"\n",
      "Loaded model weights\n",
      "Loaded optimizer\n",
      "Loaded scheduler\n",
      "Last epoch = 60\n",
      "Last rank1 = 85.6%\n",
      "start_epoch: 60\n"
     ]
    }
   ],
   "source": [
    "# 過去に学習した チェックポイント (学習済みパラメータ) を再度利用する\n",
    "from torchreid.utils import resume_from_checkpoint\n",
    "\n",
    "\n",
    "# model ファイルのパス\n",
    "fpath = '../log/resnet50/model/model.pth.tar-60'\n",
    "start_epoch = resume_from_checkpoint(\n",
    "    fpath=fpath,\n",
    "    model=model, optimizer=optimizer, scheduler=scheduler\n",
    ")\n",
    "\n",
    "print(\"start_epoch:\", start_epoch)"
   ]
  },
  {
   "cell_type": "code",
   "execution_count": 5,
   "id": "3e67401a-b5ab-4527-845e-c6a24c1e6ffe",
   "metadata": {},
   "outputs": [],
   "source": [
    "# engine = torchreid.engine.ImageSoftmaxEngine(\n",
    "#     datamanager,\n",
    "#     model,\n",
    "#     optimizer=optimizer,\n",
    "#     scheduler=scheduler,\n",
    "#     label_smooth=True\n",
    "# )"
   ]
  },
  {
   "cell_type": "markdown",
   "id": "13527c71-1695-4555-a74d-b953b862330f",
   "metadata": {},
   "source": [
    "# Training\n",
    "\n",
    "- 実行は一回で良い\n",
    "- `save_dir`には、学習結果が保存される"
   ]
  },
  {
   "cell_type": "code",
   "execution_count": 6,
   "id": "13a37547-4b45-4fb9-9f13-4610dec9a8c0",
   "metadata": {},
   "outputs": [],
   "source": [
    "# engine.run(\n",
    "#     save_dir=\"log/resnet50\",\n",
    "#     max_epoch=60,\n",
    "#     eval_freq=10,\n",
    "#     print_freq=10,\n",
    "#     test_only=False\n",
    "# )\n"
   ]
  },
  {
   "cell_type": "markdown",
   "id": "77ff1bb4-09f8-4d31-a32f-122e53879d87",
   "metadata": {},
   "source": [
    "# Visualize\n",
    "\n",
    "もともと用意されていた機能\n",
    "\n",
    "今回行ったカスタマイズ実装があるので、実行する必要はない"
   ]
  },
  {
   "cell_type": "code",
   "execution_count": 7,
   "id": "0ddc8f53-ec0d-4981-97de-6c16553f8df6",
   "metadata": {},
   "outputs": [],
   "source": [
    "# engine.run(\n",
    "#     save_dir=\"log/resnet50\",\n",
    "#     max_epoch=60,\n",
    "#     eval_freq=10,\n",
    "#     print_freq=10,\n",
    "#     test_only=True,\n",
    "#     visrank=True\n",
    "# )"
   ]
  },
  {
   "cell_type": "markdown",
   "id": "ba0b5888-0dc5-4f42-bf6d-c4725c088f01",
   "metadata": {},
   "source": [
    "# Output rank-image and csv"
   ]
  },
  {
   "cell_type": "code",
   "execution_count": 5,
   "id": "c9ce5135-fc19-4401-aaa9-0e2c94a5b366",
   "metadata": {},
   "outputs": [
    {
     "name": "stdout",
     "output_type": "stream",
     "text": [
      "##### Evaluating market1501 (source) #####\n",
      "Extracting features from query set ...\n",
      "Done, obtained 3369-by-2048 matrix\n",
      "Extracting features from gallery set ...\n",
      "Done, obtained 15914-by-2048 matrix\n",
      "Speed: 0.0225 sec/batch\n",
      "Computing distance matrix with metric=euclidean ...\n",
      "Computing CMC and mAP ...\n",
      "** Results **\n",
      "mAP: 69.3%\n",
      "CMC curve\n",
      "Rank-1  : 85.6%\n",
      "Rank-5  : 93.7%\n",
      "Rank-10 : 95.8%\n",
      "Rank-20 : 97.6%\n",
      "shape of distmat: (3369, 15914)\n"
     ]
    },
    {
     "data": {
      "text/plain": [
       "0.8557435"
      ]
     },
     "execution_count": 5,
     "metadata": {},
     "output_type": "execute_result"
    }
   ],
   "source": [
    "engine = CustomEvaluationEngine(\n",
    "    datamanager,\n",
    "    model,\n",
    "    save_dir=\"log/resnet50\",\n",
    "    visrank=False\n",
    ")\n",
    "rank1_score, distmat = engine.run()\n",
    "print(\"shape of distmat:\", distmat.shape)\n",
    "rank1_score"
   ]
  },
  {
   "cell_type": "code",
   "execution_count": 6,
   "id": "647c1187-3e89-4bc4-a3bb-708c1f9867e1",
   "metadata": {},
   "outputs": [
    {
     "name": "stdout",
     "output_type": "stream",
     "text": [
      "20230908_similarity_ranking.csv is created!\n"
     ]
    }
   ],
   "source": [
    "CsvCreator().run(distmat, datamanager, dataset_name)"
   ]
  },
  {
   "cell_type": "code",
   "execution_count": null,
   "id": "c11791f0-21fb-4061-965c-0f10e27c61c9",
   "metadata": {},
   "outputs": [],
   "source": []
  }
 ],
 "metadata": {
  "kernelspec": {
   "display_name": "Python 3 (ipykernel)",
   "language": "python",
   "name": "python3"
  },
  "language_info": {
   "codemirror_mode": {
    "name": "ipython",
    "version": 3
   },
   "file_extension": ".py",
   "mimetype": "text/x-python",
   "name": "python",
   "nbconvert_exporter": "python",
   "pygments_lexer": "ipython3",
   "version": "3.8.10"
  }
 },
 "nbformat": 4,
 "nbformat_minor": 5
}
